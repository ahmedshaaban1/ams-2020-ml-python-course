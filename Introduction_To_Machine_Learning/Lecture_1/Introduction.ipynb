{
 "cells": [
  {
   "cell_type": "code",
   "execution_count": 4,
   "metadata": {
    "collapsed": true
   },
   "outputs": [],
   "source": [
    "import matplotlib.pyplot as plt\n",
    "import cartopy.crs as ccrs\n",
    "import cartopy.feature as cf \n",
    "import cartopy\n",
    "from netCDF4 import Dataset\n",
    "import numpy as np\n",
    "import xarray as xr\n",
    "import matplotlib\n",
    "from scipy.ndimage import gaussian_filter"
   ]
  },
  {
   "cell_type": "markdown",
   "metadata": {},
   "source": [
    "# Lecture 1: Introduction to Machine Learning and Artifical Intelligence"
   ]
  },
  {
   "cell_type": "markdown",
   "metadata": {},
   "source": [
    "### In this lecture you will learn:\n",
    "\n"
   ]
  },
  {
   "cell_type": "markdown",
   "metadata": {},
   "source": [
    "what I want to cover:\n",
    "\n",
    "-why is data exploration necessary before diving into the fun stuff?\n",
    "    -80% of ML is data pre-processing, the rest is model tunning\n",
    "    -need to look at the data to see what pre-processing might be necessary\n",
    "-exploring the data, what are we looking at \n",
    "    -pandas (different ways that you can slice data)\n",
    "    -netcdf4 dataset\n",
    "    -xarray (different ways that you can slice data)\n",
    "- plotting the data in different ways\n",
    "    -seaborn\n",
    "    -cartopy\n",
    "  \n",
    "    \n",
    "\n",
    "\n",
    "\n",
    "<!--![](ml_comic.png)--->"
   ]
  },
  {
   "cell_type": "markdown",
   "metadata": {
    "collapsed": true
   },
   "source": [
    "https://medium.com/ibm-data-science-experience/markdown-for-jupyter-notebooks-cheatsheet-386c05aeebed\n",
    "\n",
    "https://medium.com/markdown-monster-blog/getting-images-into-markdown-documents-and-weblog-posts-with-markdown-monster-9ec6f353d8ec\n",
    "\n",
    "https://nbviewer.jupyter.org/github/djgagne/ams-ml-python-course/blob/master/module_1/ML_Short_Course_Module_1_data_analysis_and_preproc.ipynb"
   ]
  },
  {
   "cell_type": "markdown",
   "metadata": {},
   "source": [
    "We want our plots to show up in the notebook so run:"
   ]
  },
  {
   "cell_type": "code",
   "execution_count": 2,
   "metadata": {
    "collapsed": true
   },
   "outputs": [],
   "source": [
    "%matplotlib inline"
   ]
  },
  {
   "cell_type": "markdown",
   "metadata": {},
   "source": [
    "### Reading in data using pandas and xarray"
   ]
  },
  {
   "cell_type": "code",
   "execution_count": 2,
   "metadata": {
    "collapsed": true
   },
   "outputs": [],
   "source": [
    "import xarray as xr\n",
    "from netCDF4 import Dataset\n",
    "import numpy as np\n",
    "import glob\n",
    "import os\n",
    "import pandas as pd"
   ]
  },
  {
   "cell_type": "code",
   "execution_count": 3,
   "metadata": {},
   "outputs": [
    {
     "name": "stdout",
     "output_type": "stream",
     "text": [
      "/Users/aburke/Documents/ams-2020-ml-python-course/data/track_data_ncar_ams_3km_csv_small/\n",
      "Number of csv files: 100\n"
     ]
    }
   ],
   "source": [
    "# set the path to the location of the csv files in \"data\" folder:\n",
    "#path = '/Users/aburke/Documents/ams-2020-ml-python-course/data_transfer/track_data_ncar_ams_3km_csv_small/'\n",
    "csv_path = '/Users/aburke/Documents/ams-2020-ml-python-course/data/track_data_ncar_ams_3km_csv_small/'\n",
    "print(csv_path)\n",
    "#Find all files in folder that end in \".csv\"\n",
    "csv_files = sorted(glob.glob(csv_path+\"*.csv\"))\n",
    "print('Number of csv files: {0}'.format(len(csv_files)))"
   ]
  },
  {
   "cell_type": "code",
   "execution_count": 4,
   "metadata": {
    "collapsed": true
   },
   "outputs": [],
   "source": [
    "csv_single_file = pd.read_csv(csv_files[0])"
   ]
  },
  {
   "cell_type": "markdown",
   "metadata": {},
   "source": [
    "What are our variables?"
   ]
  },
  {
   "cell_type": "code",
   "execution_count": 27,
   "metadata": {},
   "outputs": [
    {
     "name": "stdout",
     "output_type": "stream",
     "text": [
      "Index(['Step_ID', 'Track_ID', 'Ensemble_Name', 'Ensemble_Member', 'Run_Date',\n",
      "       'Valid_Date', 'Forecast_Hour', 'Valid_Hour_UTC', 'Duration',\n",
      "       'Centroid_Lon', 'Centroid_Lat', 'Centroid_X', 'Centroid_Y',\n",
      "       'Storm_Motion_U', 'Storm_Motion_V', 'REFL_COM_mean', 'REFL_COM_max',\n",
      "       'REFL_COM_min', 'REFL_COM_std', 'REFL_COM_percentile_10',\n",
      "       'REFL_COM_percentile_25', 'REFL_COM_percentile_50',\n",
      "       'REFL_COM_percentile_75', 'REFL_COM_percentile_90', 'U10_mean',\n",
      "       'U10_max', 'U10_min', 'U10_std', 'U10_percentile_10',\n",
      "       'U10_percentile_25', 'U10_percentile_50', 'U10_percentile_75',\n",
      "       'U10_percentile_90', 'V10_mean', 'V10_max', 'V10_min', 'V10_std',\n",
      "       'V10_percentile_10', 'V10_percentile_25', 'V10_percentile_50',\n",
      "       'V10_percentile_75', 'V10_percentile_90', 'T2_mean', 'T2_max', 'T2_min',\n",
      "       'T2_std', 'T2_percentile_10', 'T2_percentile_25', 'T2_percentile_50',\n",
      "       'T2_percentile_75', 'T2_percentile_90', 'RVORT1_MAX-future_mean',\n",
      "       'RVORT1_MAX-future_max', 'RVORT1_MAX-future_min',\n",
      "       'RVORT1_MAX-future_std', 'RVORT1_MAX-future_percentile_10',\n",
      "       'RVORT1_MAX-future_percentile_25', 'RVORT1_MAX-future_percentile_50',\n",
      "       'RVORT1_MAX-future_percentile_75', 'RVORT1_MAX-future_percentile_90',\n",
      "       'HAIL_MAXK1-future_mean', 'HAIL_MAXK1-future_max',\n",
      "       'HAIL_MAXK1-future_min', 'HAIL_MAXK1-future_std',\n",
      "       'HAIL_MAXK1-future_percentile_10', 'HAIL_MAXK1-future_percentile_25',\n",
      "       'HAIL_MAXK1-future_percentile_50', 'HAIL_MAXK1-future_percentile_75',\n",
      "       'HAIL_MAXK1-future_percentile_90', 'area', 'eccentricity',\n",
      "       'major_axis_length', 'minor_axis_length', 'orientation', 'Matched',\n",
      "       'Max_Hail_Size', 'Num_Matches', 'Shape', 'Location', 'Scale'],\n",
      "      dtype='object')\n"
     ]
    }
   ],
   "source": [
    "print(csv_single_file.columns)"
   ]
  },
  {
   "cell_type": "markdown",
   "metadata": {},
   "source": [
    "What does the first five samples look like of the median 10 meter U/V wind field and 2 meter temperature? "
   ]
  },
  {
   "cell_type": "code",
   "execution_count": 17,
   "metadata": {},
   "outputs": [
    {
     "name": "stdout",
     "output_type": "stream",
     "text": [
      "   U10_percentile_50  V10_percentile_50  T2_percentile_50\n",
      "0            0.27611            4.78568         293.17340\n",
      "1           -1.08810            5.65116         291.98325\n",
      "2           -0.36890            2.77814         293.00183\n",
      "3            1.39530            1.29246         292.66022\n",
      "4            0.61899            4.36524         292.27325\n"
     ]
    }
   ],
   "source": [
    "samples = csv_single_file.loc[:,['U10_percentile_50', 'V10_percentile_50', 'T2_percentile_50']]\n",
    "print(samples.head())"
   ]
  },
  {
   "cell_type": "markdown",
   "metadata": {},
   "source": [
    "<br>\n",
    "\n",
    "What about the last ten samples?"
   ]
  },
  {
   "cell_type": "code",
   "execution_count": 18,
   "metadata": {},
   "outputs": [
    {
     "name": "stdout",
     "output_type": "stream",
     "text": [
      "      U10_percentile_50  V10_percentile_50  T2_percentile_50\n",
      "1467            1.83592            4.93161         288.51936\n",
      "1468           -1.29388            2.72014         285.69463\n",
      "1469            5.15135           -4.86577         283.09445\n",
      "1470            8.17074           -0.64170         281.74910\n",
      "1471            8.89075            3.43247         277.41621\n"
     ]
    }
   ],
   "source": [
    "print(samples.tail())"
   ]
  },
  {
   "cell_type": "markdown",
   "metadata": {
    "collapsed": true
   },
   "source": [
    "#### How to read in data from all of the listed files"
   ]
  },
  {
   "cell_type": "code",
   "execution_count": null,
   "metadata": {
    "collapsed": true
   },
   "outputs": [],
   "source": [
    "#Read in all the files and concatenate them along their columns\n",
    "#The \"unknown\" column is idgnored. "
   ]
  },
  {
   "cell_type": "code",
   "execution_count": 5,
   "metadata": {
    "collapsed": true
   },
   "outputs": [],
   "source": [
    "csv_all_files = pd.concat(map(\n",
    "                        pd.read_csv, csv_files), \n",
    "                        ignore_index=True)"
   ]
  },
  {
   "cell_type": "markdown",
   "metadata": {},
   "source": [
    "How many samples do we have now?"
   ]
  },
  {
   "cell_type": "code",
   "execution_count": 168,
   "metadata": {},
   "outputs": [
    {
     "name": "stdout",
     "output_type": "stream",
     "text": [
      "Number of samples: 121137\n"
     ]
    }
   ],
   "source": [
    "print('Number of samples: {0}'.format(len(csv_all_files)))"
   ]
  },
  {
   "cell_type": "markdown",
   "metadata": {},
   "source": [
    "### There are many easy ways to explore csv data using pandas.\n",
    "\n",
    "We can slice a dataset using row/column names:"
   ]
  },
  {
   "cell_type": "code",
   "execution_count": 169,
   "metadata": {},
   "outputs": [
    {
     "name": "stdout",
     "output_type": "stream",
     "text": [
      "100   -1.41053\n",
      "101   -5.09471\n",
      "102   -2.25204\n",
      "103    2.11964\n",
      "104    2.75208\n",
      "105    0.76290\n",
      "Name: U10_percentile_50, dtype: float64\n"
     ]
    }
   ],
   "source": [
    "#Samples 100 through 106\n",
    "#Inclusive of last sample\n",
    "sliced_by_name_inclusive = csv_all_files.loc[100:105, 'U10_percentile_50']\n",
    "print(sliced_by_name_inclusive)"
   ]
  },
  {
   "cell_type": "code",
   "execution_count": 170,
   "metadata": {},
   "outputs": [
    {
     "name": "stdout",
     "output_type": "stream",
     "text": [
      "100   -1.41053\n",
      "101   -5.09471\n",
      "102   -2.25204\n",
      "103    2.11964\n",
      "104    2.75208\n",
      "Name: U10_percentile_50, dtype: float64\n"
     ]
    }
   ],
   "source": [
    "#Alternativley, exclusive of last sample\n",
    "sliced_by_name_exclusive = csv_all_files['U10_percentile_50'][100:105]\n",
    "print(sliced_by_name_exclusive)"
   ]
  },
  {
   "cell_type": "markdown",
   "metadata": {},
   "source": [
    "#### We can also slice by index number instead of a column/row name. "
   ]
  },
  {
   "cell_type": "code",
   "execution_count": 171,
   "metadata": {},
   "outputs": [
    {
     "name": "stdout",
     "output_type": "stream",
     "text": [
      "100   -1.41053\n",
      "101   -5.09471\n",
      "102   -2.25204\n",
      "103    2.11964\n",
      "104    2.75208\n",
      "Name: U10_percentile_50, dtype: float64\n"
     ]
    }
   ],
   "source": [
    "sliced_by_index = csv_all_files.iloc[100:105, 30]\n",
    "print(sliced_by_index)"
   ]
  },
  {
   "cell_type": "markdown",
   "metadata": {},
   "source": [
    "#### Slicing by value"
   ]
  },
  {
   "cell_type": "code",
   "execution_count": 172,
   "metadata": {},
   "outputs": [
    {
     "name": "stdout",
     "output_type": "stream",
     "text": [
      "185       15.41091\n",
      "375       15.07582\n",
      "595       15.23123\n",
      "842       15.43215\n",
      "982       17.89949\n",
      "            ...   \n",
      "120327    15.48680\n",
      "120328    17.25279\n",
      "120473    18.19596\n",
      "120474    15.83959\n",
      "120551    15.39149\n",
      "Name: U10_percentile_50, Length: 88, dtype: float64\n"
     ]
    }
   ],
   "source": [
    "sliced_by_value = csv_all_files[csv_all_files.U10_percentile_50 >= 15]\n",
    "print(sliced_by_value['U10_percentile_50'])"
   ]
  },
  {
   "cell_type": "markdown",
   "metadata": {},
   "source": [
    "#### We can also use conditionals"
   ]
  },
  {
   "cell_type": "code",
   "execution_count": 173,
   "metadata": {},
   "outputs": [
    {
     "name": "stdout",
     "output_type": "stream",
     "text": [
      "185       15.41091\n",
      "375       15.07582\n",
      "595       15.23123\n",
      "842       15.43215\n",
      "1215      16.11396\n",
      "            ...   \n",
      "120232    15.27241\n",
      "120326    16.69855\n",
      "120327    15.48680\n",
      "120474    15.83959\n",
      "120551    15.39149\n",
      "Name: U10_percentile_50, Length: 74, dtype: float64\n"
     ]
    }
   ],
   "source": [
    "sliced_by_conditional= csv_all_files[(csv_all_files.U10_percentile_50 >= 15) &\n",
    "                                    (csv_all_files.U10_percentile_50 < 17)]\n",
    "print(sliced_by_conditional['U10_percentile_50'])"
   ]
  },
  {
   "cell_type": "markdown",
   "metadata": {},
   "source": [
    "### Beyond slicing, applying basic math functions are simple when using pandas"
   ]
  },
  {
   "cell_type": "code",
   "execution_count": 174,
   "metadata": {},
   "outputs": [
    {
     "name": "stdout",
     "output_type": "stream",
     "text": [
      "Mean 0.32452657941008367\n",
      "Standard Deviation 4.326152892831315\n",
      "Max 19.6309\n"
     ]
    }
   ],
   "source": [
    "print('Mean', csv_all_files['U10_percentile_50'].mean())\n",
    "print('Standard Deviation',csv_all_files['U10_percentile_50'].std())\n",
    "print('Max',csv_all_files['U10_percentile_50'].max())"
   ]
  },
  {
   "cell_type": "markdown",
   "metadata": {},
   "source": [
    "### Handling NaN  or infinity values is critical for ML. Its again simple when using pandas "
   ]
  },
  {
   "cell_type": "code",
   "execution_count": 175,
   "metadata": {},
   "outputs": [
    {
     "name": "stdout",
     "output_type": "stream",
     "text": [
      "Before adding unknown values \n",
      "100   -1.41053\n",
      "101   -5.09471\n",
      "102   -2.25204\n",
      "103    2.11964\n",
      "104    2.75208\n",
      "105    0.76290\n",
      "Name: U10_percentile_50, dtype: float64\n",
      "\n",
      "After adding unknown values \n",
      "100   -1.41053\n",
      "101        NaN\n",
      "102   -2.25204\n",
      "103    2.11964\n",
      "104        inf\n",
      "105    0.76290\n",
      "Name: U10_percentile_50, dtype: float64\n"
     ]
    }
   ],
   "source": [
    "#Copy pandas dataframe\n",
    "copied_data = csv_all_files.copy(deep=True)\n",
    "\n",
    "#slice dataframe\n",
    "unknown_sliced_data = copied_data.loc[100:105,'U10_percentile_50']\n",
    "\n",
    "#Add NaN and inf values\n",
    "print(\"Before adding unknown values \\n{0}\".format(unknown_sliced_data))\n",
    "unknown_sliced_data[101] = np.nan\n",
    "unknown_sliced_data[104] = np.inf\n",
    "print(\"\\nAfter adding unknown values \\n{0}\".format(unknown_sliced_data))"
   ]
  },
  {
   "cell_type": "code",
   "execution_count": 176,
   "metadata": {},
   "outputs": [
    {
     "name": "stdout",
     "output_type": "stream",
     "text": [
      "Dropping NaNs \n",
      "100   -1.41053\n",
      "102   -2.25204\n",
      "103    2.11964\n",
      "104        inf\n",
      "105    0.76290\n",
      "Name: U10_percentile_50, dtype: float64\n",
      "\n",
      "Backfilling NaNs \n",
      "100   -1.41053\n",
      "101   -2.25204\n",
      "102   -2.25204\n",
      "103    2.11964\n",
      "104        inf\n",
      "105    0.76290\n",
      "Name: U10_percentile_50, dtype: float64\n",
      "\n",
      "Forward filling NaNs \n",
      "100   -1.41053\n",
      "101   -1.41053\n",
      "102   -2.25204\n",
      "103    2.11964\n",
      "104        inf\n",
      "105    0.76290\n",
      "Name: U10_percentile_50, dtype: float64\n",
      "\n",
      "Fill with value \n",
      "100   -1.41053\n",
      "101    0.00000\n",
      "102   -2.25204\n",
      "103    2.11964\n",
      "104        inf\n",
      "105    0.76290\n",
      "Name: U10_percentile_50, dtype: float64\n"
     ]
    }
   ],
   "source": [
    "print('Dropping NaNs \\n{0}'.format(unknown_sliced_data.dropna(how='any')))\n",
    "print('\\nBackfilling NaNs \\n{0}'.format(unknown_sliced_data.fillna(method='backfill')))\n",
    "print('\\nForward filling NaNs \\n{0}'.format(unknown_sliced_data.fillna(method='ffill')))\n",
    "print('\\nFill with value \\n{0}'.format(unknown_sliced_data.fillna(0)))"
   ]
  },
  {
   "cell_type": "markdown",
   "metadata": {},
   "source": [
    "#### What about the infinity?\n",
    "\n",
    "Change it to a NaN and use similar functions."
   ]
  },
  {
   "cell_type": "code",
   "execution_count": 177,
   "metadata": {},
   "outputs": [
    {
     "name": "stdout",
     "output_type": "stream",
     "text": [
      "Replaced data: \n",
      "100   -1.41053\n",
      "101        NaN\n",
      "102   -2.25204\n",
      "103    2.11964\n",
      "104        NaN\n",
      "105    0.76290\n",
      "Name: U10_percentile_50, dtype: float64\n",
      "\n",
      "Fill with value \n",
      "100   -1.41053\n",
      "101    0.00000\n",
      "102   -2.25204\n",
      "103    2.11964\n",
      "104    0.00000\n",
      "105    0.76290\n",
      "Name: U10_percentile_50, dtype: float64\n"
     ]
    }
   ],
   "source": [
    "unknown_sliced_data.replace(np.inf,np.nan,inplace=True)\n",
    "print('Replaced data: \\n{0}'.format(unknown_sliced_data))\n",
    "print('\\nFill with value \\n{0}'.format(unknown_sliced_data.fillna(0)))"
   ]
  },
  {
   "cell_type": "markdown",
   "metadata": {},
   "source": [
    "### Plotting using pandas"
   ]
  },
  {
   "cell_type": "code",
   "execution_count": 178,
   "metadata": {},
   "outputs": [
    {
     "data": {
      "text/plain": [
       "Text(0.5, 0, 'Samples')"
      ]
     },
     "execution_count": 178,
     "metadata": {},
     "output_type": "execute_result"
    },
    {
     "data": {
      "image/png": "[encoded data removed]",
      "text/plain": [
       "<Figure size 432x288 with 1 Axes>"
      ]
     },
     "metadata": {},
     "output_type": "display_data"
    }
   ],
   "source": [
    "csv_all_files['U10_percentile_50'].plot()\n",
    "plt.ylabel(\"Median 10 Meter U wind\")\n",
    "plt.xlabel(\"Samples\")"
   ]
  },
  {
   "cell_type": "markdown",
   "metadata": {},
   "source": [
    "## Beyond pandas, different plotting packages futher explore dataframes easily"
   ]
  },
  {
   "cell_type": "code",
   "execution_count": 48,
   "metadata": {},
   "outputs": [
    {
     "name": "stderr",
     "output_type": "stream",
     "text": [
      "/anaconda3/lib/python3.6/site-packages/seaborn/categorical.py:462: FutureWarning: remove_na is deprecated and is a private function. Do not use.\n",
      "  box_data = remove_na(group_data)\n",
      "/anaconda3/lib/python3.6/site-packages/seaborn/categorical.py:462: FutureWarning: remove_na is deprecated and is a private function. Do not use.\n",
      "  box_data = remove_na(group_data)\n"
     ]
    },
    {
     "data": {
      "text/plain": [
       "<matplotlib.axes._subplots.AxesSubplot at 0x11dbc5390>"
      ]
     },
     "execution_count": 48,
     "metadata": {},
     "output_type": "execute_result"
    },
    {
     "data": {
      "image/png": "[encoded data removed]",
      "text/plain": [
       "<Figure size 432x288 with 1 Axes>"
      ]
     },
     "metadata": {},
     "output_type": "display_data"
    }
   ],
   "source": [
    "seaborn_plotting_data = csv_all_files.loc[:,['U10_percentile_50', 'V10_percentile_50']]\n",
    "\n",
    "import seaborn as sns\n",
    "sns.set_palette(\"colorblind\")\n",
    "sns.set(style=\"whitegrid\")\n",
    "sns.boxplot(data=seaborn_plotting_data,orient=\"h\")"
   ]
  },
  {
   "cell_type": "code",
   "execution_count": 8,
   "metadata": {},
   "outputs": [
    {
     "name": "stderr",
     "output_type": "stream",
     "text": [
      "/anaconda3/lib/python3.6/site-packages/seaborn/categorical.py:598: FutureWarning: remove_na is deprecated and is a private function. Do not use.\n",
      "  kde_data = remove_na(group_data)\n",
      "/anaconda3/lib/python3.6/site-packages/seaborn/categorical.py:826: FutureWarning: remove_na is deprecated and is a private function. Do not use.\n",
      "  violin_data = remove_na(group_data)\n"
     ]
    },
    {
     "data": {
      "text/plain": [
       "<matplotlib.axes._subplots.AxesSubplot at 0x11d0b84a8>"
      ]
     },
     "execution_count": 8,
     "metadata": {},
     "output_type": "execute_result"
    },
    {
     "data": {
      "image/png": "[encoded data removed]",
      "text/plain": [
       "<Figure size 432x288 with 1 Axes>"
      ]
     },
     "metadata": {},
     "output_type": "display_data"
    }
   ],
   "source": [
    "sns.violinplot(data=seaborn_plotting_data,orient=\"h\")"
   ]
  },
  {
   "cell_type": "markdown",
   "metadata": {},
   "source": [
    "# How to remove outliers?"
   ]
  },
  {
   "cell_type": "code",
   "execution_count": 24,
   "metadata": {},
   "outputs": [
    {
     "name": "stdout",
     "output_type": "stream",
     "text": [
      "Upper quantile \n",
      "U10_percentile_50    7.564244\n",
      "V10_percentile_50    7.758882\n",
      "Name: 0.95, dtype: float64\n",
      "\n",
      "Lower quantile \n",
      "U10_percentile_50   -6.682612\n",
      "V10_percentile_50   -7.370860\n",
      "Name: 0.05, dtype: float64\n"
     ]
    }
   ],
   "source": [
    "upper_q = seaborn_plotting_data.quantile(0.95)\n",
    "lower_q = seaborn_plotting_data.quantile(0.05)\n",
    "print('Upper quantile \\n{0}'.format(upper_q[:10]))\n",
    "print('\\nLower quantile \\n{0}'.format(lower_q[:10]))"
   ]
  },
  {
   "cell_type": "code",
   "execution_count": 89,
   "metadata": {},
   "outputs": [
    {
     "name": "stdout",
     "output_type": "stream",
     "text": [
      "Number of outliers: 22577\n"
     ]
    }
   ],
   "source": [
    "filtered_seaborn = seaborn_plotting_data.copy(deep=True)\n",
    "filtered_seaborn = filtered_seaborn[(filtered_seaborn < upper_q.values) &\n",
    "                 (filtered_seaborn >= lower_q.values)].dropna()\n",
    "\n",
    "print('Number of outliers: {0}'.format(len(seaborn_plotting_data) \n",
    "                                       -len(filtered_seaborn)))"
   ]
  },
  {
   "cell_type": "code",
   "execution_count": 90,
   "metadata": {},
   "outputs": [
    {
     "name": "stderr",
     "output_type": "stream",
     "text": [
      "/anaconda3/lib/python3.6/site-packages/seaborn/categorical.py:462: FutureWarning: remove_na is deprecated and is a private function. Do not use.\n",
      "  box_data = remove_na(group_data)\n",
      "/anaconda3/lib/python3.6/site-packages/seaborn/categorical.py:462: FutureWarning: remove_na is deprecated and is a private function. Do not use.\n",
      "  box_data = remove_na(group_data)\n"
     ]
    },
    {
     "data": {
      "text/plain": [
       "<matplotlib.axes._subplots.AxesSubplot at 0x121022e80>"
      ]
     },
     "execution_count": 90,
     "metadata": {},
     "output_type": "execute_result"
    },
    {
     "data": {
      "image/png": "[encoded data removed]",
      "text/plain": [
       "<Figure size 432x288 with 1 Axes>"
      ]
     },
     "metadata": {},
     "output_type": "display_data"
    }
   ],
   "source": [
    "sns.boxplot(data=filtered_seaborn,orient=\"h\")"
   ]
  },
  {
   "cell_type": "code",
   "execution_count": 91,
   "metadata": {},
   "outputs": [
    {
     "name": "stderr",
     "output_type": "stream",
     "text": [
      "/anaconda3/lib/python3.6/site-packages/seaborn/categorical.py:598: FutureWarning: remove_na is deprecated and is a private function. Do not use.\n",
      "  kde_data = remove_na(group_data)\n",
      "/anaconda3/lib/python3.6/site-packages/seaborn/categorical.py:826: FutureWarning: remove_na is deprecated and is a private function. Do not use.\n",
      "  violin_data = remove_na(group_data)\n"
     ]
    },
    {
     "data": {
      "text/plain": [
       "<matplotlib.axes._subplots.AxesSubplot at 0x11f806b38>"
      ]
     },
     "execution_count": 91,
     "metadata": {},
     "output_type": "execute_result"
    },
    {
     "data": {
      "image/png": "[encoded data removed]",
      "text/plain": [
       "<Figure size 432x288 with 1 Axes>"
      ]
     },
     "metadata": {},
     "output_type": "display_data"
    }
   ],
   "source": [
    "sns.violinplot(data=filtered_seaborn,orient=\"h\")"
   ]
  },
  {
   "cell_type": "markdown",
   "metadata": {
    "collapsed": true
   },
   "source": [
    "# Reading netCDF files with netCDF4 and XArray"
   ]
  },
  {
   "cell_type": "code",
   "execution_count": 7,
   "metadata": {},
   "outputs": [
    {
     "name": "stdout",
     "output_type": "stream",
     "text": [
      "/Users/aburke/Documents/ams-2020-ml-python-course/data/track_data_ncar_ams_3km_nc_small/\n",
      "Number of netcdf files: 100\n"
     ]
    }
   ],
   "source": [
    "# set the path to the location of the netcdf files in \"data\" folder:\n",
    "nc_path = \"/Users/aburke/Documents/ams-2020-ml-python-course/data/track_data_ncar_ams_3km_nc_small/\"\n",
    "print(nc_path)\n",
    "\n",
    "#Find all files in folder that end in \".nc\"\n",
    "nc_files = sorted(glob.glob(nc_path+\"*.nc\"))\n",
    "print('Number of netcdf files: {0}'.format(len(nc_files)))"
   ]
  },
  {
   "cell_type": "markdown",
   "metadata": {},
   "source": [
    "#### Read in a single file using netCDF4"
   ]
  },
  {
   "cell_type": "code",
   "execution_count": 29,
   "metadata": {},
   "outputs": [
    {
     "name": "stdout",
     "output_type": "stream",
     "text": [
      "<class 'netCDF4._netCDF4.Dataset'>\n",
      "root group (NETCDF4 data model, file format HDF5):\n",
      "    Conventions: CF-1.6\n",
      "    title: NCARSTORM Storm Patches for run 20101024-0000 member d01\n",
      "    object_variable: REFL_COM\n",
      "    dimensions(sizes): p(1472), row(32), col(32)\n",
      "    variables(dimensions): int32 p(p), int32 row(row), int32 col(col), float32 lon(p,row,col), float32 lat(p,row,col), int32 i(p,row,col), int32 j(p,row,col), float32 x(p,row,col), float32 y(p,row,col), int32 masks(p,row,col), int32 time(p), float32 centroid_lon(p), float32 centroid_lat(p), float32 centroid_i(p), float32 centroid_j(p), int32 track_id(p), int32 track_step(p), float32 REFL_COM_curr(p,row,col), float32 U10_curr(p,row,col), float32 V10_curr(p,row,col), float32 T2_curr(p,row,col), float32 RVORT1_MAX_future(p,row,col), float32 HAIL_MAXK1_future(p,row,col)\n",
      "    groups: \n"
     ]
    }
   ],
   "source": [
    "from netCDF4 import Dataset\n",
    "nf = Dataset(nc_files[0])\n",
    "print(nf)"
   ]
  },
  {
   "cell_type": "markdown",
   "metadata": {},
   "source": [
    "#### Read in a single file using XArray"
   ]
  },
  {
   "cell_type": "code",
   "execution_count": 30,
   "metadata": {},
   "outputs": [
    {
     "name": "stdout",
     "output_type": "stream",
     "text": [
      "<xarray.Dataset>\n",
      "Dimensions:            (col: 32, p: 1472, row: 32)\n",
      "Coordinates:\n",
      "  * p                  (p) int32 0 1 2 3 4 5 6 ... 1466 1467 1468 1469 1470 1471\n",
      "  * row                (row) int32 0 1 2 3 4 5 6 7 8 ... 24 25 26 27 28 29 30 31\n",
      "  * col                (col) int32 0 1 2 3 4 5 6 7 8 ... 24 25 26 27 28 29 30 31\n",
      "Data variables:\n",
      "    lon                (p, row, col) float32 ...\n",
      "    lat                (p, row, col) float32 ...\n",
      "    i                  (p, row, col) int32 ...\n",
      "    j                  (p, row, col) int32 ...\n",
      "    x                  (p, row, col) float32 ...\n",
      "    y                  (p, row, col) float32 ...\n",
      "    masks              (p, row, col) int32 ...\n",
      "    time               (p) datetime64[ns] ...\n",
      "    centroid_lon       (p) float32 ...\n",
      "    centroid_lat       (p) float32 ...\n",
      "    centroid_i         (p) float32 ...\n",
      "    centroid_j         (p) float32 ...\n",
      "    track_id           (p) int32 ...\n",
      "    track_step         (p) int32 ...\n",
      "    REFL_COM_curr      (p, row, col) float32 ...\n",
      "    U10_curr           (p, row, col) float32 ...\n",
      "    V10_curr           (p, row, col) float32 ...\n",
      "    T2_curr            (p, row, col) float32 ...\n",
      "    RVORT1_MAX_future  (p, row, col) float32 ...\n",
      "    HAIL_MAXK1_future  (p, row, col) float32 ...\n",
      "Attributes:\n",
      "    Conventions:      CF-1.6\n",
      "    title:            NCARSTORM Storm Patches for run 20101024-0000 member d01\n",
      "    object_variable:  REFL_COM\n"
     ]
    }
   ],
   "source": [
    "import xarray as xf\n",
    "xf = xr.open_dataset(nc_files[0])\n",
    "print(xf)"
   ]
  },
  {
   "cell_type": "markdown",
   "metadata": {},
   "source": [
    "#### Benefits of using XArray:\n",
    "\n",
    "1. Integrates with numpy and pandas for using multidensional data\n",
    "<br>\n",
    "2. Uses dask for better parallelization\n",
    "<br>\n",
    "3. \n"
   ]
  },
  {
   "cell_type": "code",
   "execution_count": 37,
   "metadata": {},
   "outputs": [
    {
     "name": "stdout",
     "output_type": "stream",
     "text": [
      "Dimensions: ('p', 'row', 'col')\n",
      "\n",
      "Coords: Coordinates:\n",
      "  * p        (p) int32 0 1 2 3 4 5 6 7 ... 1465 1466 1467 1468 1469 1470 1471\n",
      "  * row      (row) int32 0 1 2 3 4 5 6 7 8 9 ... 22 23 24 25 26 27 28 29 30 31\n",
      "  * col      (col) int32 0 1 2 3 4 5 6 7 8 9 ... 22 23 24 25 26 27 28 29 30 31\n",
      "\n",
      "Attributes: {'long_name': 'U10', 'units': ''}\n"
     ]
    }
   ],
   "source": [
    "U_10_meter = xf['U10_curr']\n",
    "print (\"Dimensions:\",U_10_meter.dims)\n",
    "print (\"\\nCoords:\",U_10_meter.coords)\n",
    "print (\"\\nAttributes:\",U_10_meter.attrs)"
   ]
  },
  {
   "cell_type": "code",
   "execution_count": null,
   "metadata": {
    "collapsed": true
   },
   "outputs": [],
   "source": []
  },
  {
   "cell_type": "code",
   "execution_count": null,
   "metadata": {
    "collapsed": true
   },
   "outputs": [],
   "source": []
  },
  {
   "cell_type": "code",
   "execution_count": null,
   "metadata": {
    "collapsed": true
   },
   "outputs": [],
   "source": []
  },
  {
   "cell_type": "markdown",
   "metadata": {},
   "source": [
    "# Tutorial Data Preparation"
   ]
  },
  {
   "cell_type": "code",
   "execution_count": null,
   "metadata": {
    "collapsed": true
   },
   "outputs": [],
   "source": []
  }
 ],
 "metadata": {
  "kernelspec": {
   "display_name": "Python 3",
   "language": "python",
   "name": "python3"
  },
  "language_info": {
   "codemirror_mode": {
    "name": "ipython",
    "version": 3
   },
   "file_extension": ".py",
   "mimetype": "text/x-python",
   "name": "python",
   "nbconvert_exporter": "python",
   "pygments_lexer": "ipython3",
   "version": "3.6.7"
  }
 },
 "nbformat": 4,
 "nbformat_minor": 2
}
